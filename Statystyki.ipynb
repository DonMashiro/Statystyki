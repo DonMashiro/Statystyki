{
 "cells": [
  {
   "cell_type": "code",
   "execution_count": 77,
   "id": "d6e2fbe8-03c4-4676-9894-5c7cf19ed629",
   "metadata": {},
   "outputs": [],
   "source": [
    "import numpy as np\n",
    "import matplotlib.pyplot as plt\n",
    "from scipy import stats"
   ]
  },
  {
   "cell_type": "code",
   "execution_count": 78,
   "id": "dba17daa-21e5-4292-b214-e712bba48512",
   "metadata": {},
   "outputs": [],
   "source": [
    "#Dane: liczba losowych wartości w próbie, średnia oraz odchylenie standardowe\n",
    "x_100 = 100 \n",
    "x_10000 = 10000 \n",
    "mu = 3\n",
    "sigma = 1"
   ]
  },
  {
   "cell_type": "code",
   "execution_count": 79,
   "id": "bebd6329-e272-4ddb-b4da-a1a2f4a43838",
   "metadata": {},
   "outputs": [],
   "source": [
    "#Generowanie danych\n",
    "data_100 = np.random.normal(mu, sigma, x_100)\n",
    "data_10000 = np.random.normal(mu, sigma, x_10000)"
   ]
  },
  {
   "cell_type": "code",
   "execution_count": 80,
   "id": "3b48c8da-c4d0-4872-981b-038da8fe3ebc",
   "metadata": {},
   "outputs": [],
   "source": [
    "def oblicz_statystyki(data):\n",
    "  return {\n",
    "    \"średnia\": np.mean(data),\n",
    "    \"mediana\": np.median(data),\n",
    "    \"wariancja\": np.var(data, ddof=1),\n",
    "    \"odchylenie_standardowe\": np.std(data, ddof=1),\n",
    "    \"zakres\": max(data) - min(data),\n",
    "    \"q0\": np.percentile(data, 0),\n",
    "    \"q1\": np.percentile(data, 25),\n",
    "    \"q2\": np.percentile(data, 50),\n",
    "    \"q3\": np.percentile(data, 75),\n",
    "    \"q4\": np.percentile(data, 100),\n",
    "    \"iqr\": np.percentile(data, 75) - np.percentile(data, 25)\n",
    "  }"
   ]
  },
  {
   "cell_type": "code",
   "execution_count": 81,
   "id": "d8da2bc5-d78e-48d4-a95f-dba927352a3f",
   "metadata": {},
   "outputs": [],
   "source": [
    "statystyki_100 = oblicz_statystyki(data_100)\n",
    "statystyki_10000 = oblicz_statystyki(data_10000)"
   ]
  },
  {
   "cell_type": "code",
   "execution_count": 82,
   "id": "cf75429b-9e0e-4b34-a6f7-20f7051de850",
   "metadata": {},
   "outputs": [
    {
     "name": "stdout",
     "output_type": "stream",
     "text": [
      "Statystyki dla 100 próbek:\n",
      "średnia: 2.9246\n",
      "mediana: 3.0294\n",
      "wariancja: 0.8984\n",
      "odchylenie_standardowe: 0.9478\n",
      "zakres: 4.3934\n",
      "q0: 0.8382\n",
      "q1: 2.3731\n",
      "q2: 3.0294\n",
      "q3: 3.6247\n",
      "q4: 5.2316\n",
      "iqr: 1.2515\n",
      "\n",
      "Statystyki dla 10 000 próbek:\n",
      "średnia: 2.9984\n",
      "mediana: 2.9917\n",
      "wariancja: 1.0025\n",
      "odchylenie_standardowe: 1.0013\n",
      "zakres: 6.7831\n",
      "q0: -0.3666\n",
      "q1: 2.3311\n",
      "q2: 2.9917\n",
      "q3: 3.6721\n",
      "q4: 6.4165\n",
      "iqr: 1.3410\n"
     ]
    }
   ],
   "source": [
    "# Wyświetl i porównaj statystyki\n",
    "print(\"Statystyki dla 100 próbek:\")\n",
    "for nazwa_statystyki in statystyki_100:\n",
    "  print(f\"{nazwa_statystyki}: {statystyki_100[nazwa_statystyki]:.4f}\")\n",
    "print(\"\\nStatystyki dla 10 000 próbek:\")\n",
    "for nazwa_statystyki in statystyki_10000:\n",
    "  print(f\"{nazwa_statystyki}: {statystyki_10000[nazwa_statystyki]:.4f}\")"
   ]
  },
  {
   "cell_type": "code",
   "execution_count": 83,
   "id": "bbafb505-79dd-4931-96f0-57d08a9de8ba",
   "metadata": {},
   "outputs": [
    {
     "name": "stdout",
     "output_type": "stream",
     "text": [
      "Różnice:\n",
      "- Wartość średniej oraz odchylenia standardowego dla obu zbiorów różnią się nieznacznie od założeń początkowych.\n",
      "- Dla zbioru o większej liczbie danych (10000), wartości średniej oraz odchylenia standardowego są znacznie bliższe założeniom początkowym.\n",
      "- Wartości średniej, mediany, wariancji i odchylenia standardowego przyjęły większe wartości dla zbioru o mniejszej liczbie danych (100).\n"
     ]
    }
   ],
   "source": [
    "# Opisz różnice\n",
    "print(\"Różnice:\")\n",
    "print(\"- Wartość średniej oraz odchylenia standardowego dla obu zbiorów różnią się nieznacznie od założeń początkowych.\")\n",
    "print(\"- Dla zbioru o większej liczbie danych (10000), wartości średniej oraz odchylenia standardowego są znacznie bliższe założeniom początkowym.\")\n",
    "print(\"- Wartości średniej, mediany, wariancji i odchylenia standardowego przyjęły większe wartości dla zbioru o mniejszej liczbie danych (100).\")"
   ]
  }
 ],
 "metadata": {
  "kernelspec": {
   "display_name": "Python 3 (ipykernel)",
   "language": "python",
   "name": "python3"
  },
  "language_info": {
   "codemirror_mode": {
    "name": "ipython",
    "version": 3
   },
   "file_extension": ".py",
   "mimetype": "text/x-python",
   "name": "python",
   "nbconvert_exporter": "python",
   "pygments_lexer": "ipython3",
   "version": "3.12.5"
  }
 },
 "nbformat": 4,
 "nbformat_minor": 5
}
